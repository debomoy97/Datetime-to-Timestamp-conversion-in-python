{
 "cells": [
  {
   "cell_type": "markdown",
   "metadata": {},
   "source": [
    "# Give your time as input and obtain time stamp"
   ]
  },
  {
   "cell_type": "code",
   "execution_count": 39,
   "metadata": {},
   "outputs": [],
   "source": [
    "from datetime import datetime"
   ]
  },
  {
   "cell_type": "markdown",
   "metadata": {},
   "source": [
    "Just input the date and time as it is in promt"
   ]
  },
  {
   "cell_type": "code",
   "execution_count": 40,
   "metadata": {},
   "outputs": [
    {
     "name": "stdout",
     "output_type": "stream",
     "text": [
      "17-Jul-2019\n"
     ]
    }
   ],
   "source": [
    "time = input()"
   ]
  },
  {
   "cell_type": "markdown",
   "metadata": {},
   "source": [
    "Here the array contains all the date and time conversion script"
   ]
  },
  {
   "cell_type": "code",
   "execution_count": 41,
   "metadata": {},
   "outputs": [],
   "source": [
    "tex=[\n",
    "      '%b %d, %Y, %H:%M %p IST', #Jul 03, 2019, 16:09 PM IST\n",
    "      '%m/%d/%y %H:%M:%S', #09/19/18 13:55:26\n",
    "      '%d %b %Y, %H:%M', #9 Jul 2019, 12:45\n",
    "      '%m-%d-%Y',#09-19-2018\n",
    "      '%d-%b-%Y %H:%M:%S', #20-JUN-1990 08:03:00\n",
    "      '%a %b %d %H:%M:%S %Y', #Wed Sep 19 14:55:02 2018\n",
    "      '%d-%B-%Y %A', #10-Dezember-2018 Montag\n",
    "      '%B %d, %Y', #July 3, 2019\n",
    "      '%b %d, %Y', #Jul 03, 2019\n",
    "      '%d %b %Y, %H%M hrs IST', #9 Jul 2019, 1245 hrs IST\n",
    "      '%Y-%m-%d %H:%M:%S.%f', #2019-07-15 17:01:38.0\n",
    "      '%d-%m-%Y', #15-05-2019\n",
    "      '%d-%b-%Y' #17-Jul-2019\n",
    "      ] "
   ]
  },
  {
   "cell_type": "markdown",
   "metadata": {},
   "source": [
    "The code here goes through all the types from top and as the matching format meets it converts to datetime object.\n",
    "If want to reduce complexity directly assing the index number of your datetime in the array in the commented line and make the above line comment. This would do in one run.\n",
    "Else leave the program will run through all and accept the format it requires"
   ]
  },
  {
   "cell_type": "code",
   "execution_count": 42,
   "metadata": {},
   "outputs": [],
   "source": [
    "for j in range(len(tex)):\n",
    "    try:\n",
    "        d = datetime.strptime(time.strip(),tex[j])\n",
    "        #d = datetime.strptime(time.strip(),tex[3])\n",
    "        break\n",
    "    except ValueError:\n",
    "        continue"
   ]
  },
  {
   "cell_type": "code",
   "execution_count": 43,
   "metadata": {},
   "outputs": [],
   "source": [
    "stamp = datetime.timestamp(d)"
   ]
  },
  {
   "cell_type": "code",
   "execution_count": 44,
   "metadata": {},
   "outputs": [
    {
     "name": "stdout",
     "output_type": "stream",
     "text": [
      "1563301800.0\n"
     ]
    }
   ],
   "source": [
    "print(stamp)"
   ]
  },
  {
   "cell_type": "markdown",
   "metadata": {},
   "source": [
    "If you get anydate format which dont display any reasult here please contact me at debomoy1997@gmail.com with the date time format"
   ]
  },
  {
   "cell_type": "code",
   "execution_count": null,
   "metadata": {},
   "outputs": [],
   "source": []
  }
 ],
 "metadata": {
  "kernelspec": {
   "display_name": "Python 3",
   "language": "python",
   "name": "python3"
  },
  "language_info": {
   "codemirror_mode": {
    "name": "ipython",
    "version": 3
   },
   "file_extension": ".py",
   "mimetype": "text/x-python",
   "name": "python",
   "nbconvert_exporter": "python",
   "pygments_lexer": "ipython3",
   "version": "3.6.8"
  }
 },
 "nbformat": 4,
 "nbformat_minor": 2
}
